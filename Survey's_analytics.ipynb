{
 "cells": [
  {
   "cell_type": "code",
   "execution_count": 24,
   "metadata": {},
   "outputs": [],
   "source": [
    "from sklearn.feature_extraction.text import CountVectorizer\n",
    "from sklearn.decomposition import LatentDirichletAllocation\n",
    "import numpy as np\n",
    "import pandas as pd\n",
    "import plotly.graph_objects as go\n",
    "import random"
   ]
  },
  {
   "cell_type": "code",
   "execution_count": 26,
   "metadata": {},
   "outputs": [
    {
     "data": {
      "application/vnd.plotly.v1+json": {
       "config": {
        "plotlyServerURL": "https://plot.ly"
       },
       "data": [
        {
         "marker": {
          "color": "#1f77b4"
         },
         "name": "Topic 0",
         "orientation": "h",
         "text": [
          "0.234",
          "0.227",
          "0.206",
          "0.176",
          "0.157"
         ],
         "textposition": "auto",
         "type": "bar",
         "x": [
          0.23417206407028454,
          0.22695720186193633,
          0.20635603611990772,
          0.17592283725825392,
          0.15659186068961756
         ],
         "y": [
          "health",
          "workshops",
          "informative",
          "good",
          "helps"
         ]
        },
        {
         "marker": {
          "color": "#ff7f0e"
         },
         "name": "Topic 1",
         "orientation": "h",
         "text": [
          "0.405",
          "0.163",
          "0.163",
          "0.135",
          "0.133"
         ],
         "textposition": "auto",
         "type": "bar",
         "x": [
          0.4053855004265623,
          0.16333447786581426,
          0.16333418757159643,
          0.13474537592186075,
          0.13320045821416623
         ],
         "y": [
          "team",
          "activities",
          "fun",
          "meditation",
          "room"
         ]
        },
        {
         "marker": {
          "color": "#2ca02c"
         },
         "name": "Topic 2",
         "orientation": "h",
         "text": [
          "0.324",
          "0.233",
          "0.172",
          "0.138",
          "0.133"
         ],
         "textposition": "auto",
         "type": "bar",
         "x": [
          0.32403903684328,
          0.23263833634254358,
          0.1716418851520056,
          0.13819939846961504,
          0.1334813431925558
         ],
         "y": [
          "helps",
          "mentoring",
          "standing",
          "works",
          "home"
         ]
        },
        {
         "marker": {
          "color": "#d62728"
         },
         "name": "Topic 3",
         "orientation": "h",
         "text": [
          "0.390",
          "0.212",
          "0.176",
          "0.111",
          "0.111"
         ],
         "textposition": "auto",
         "type": "bar",
         "x": [
          0.38966640936318586,
          0.21245248157092392,
          0.1760111868881508,
          0.11093549591151196,
          0.11093442626622756
         ],
         "y": [
          "work",
          "lots",
          "generous",
          "shadowing",
          "job"
         ]
        },
        {
         "marker": {
          "color": "#9467bd"
         },
         "name": "Topic 4",
         "orientation": "h",
         "text": [
          "0.230",
          "0.230",
          "0.183",
          "0.181",
          "0.175"
         ],
         "textposition": "auto",
         "type": "bar",
         "x": [
          0.2300976535801818,
          0.23008320789647452,
          0.18342063534364555,
          0.18119225164153616,
          0.17520625153816202
         ],
         "y": [
          "really",
          "like",
          "great",
          "classes",
          "nice"
         ]
        }
       ],
       "layout": {
        "barmode": "group",
        "height": 400,
        "plot_bgcolor": "white",
        "showlegend": true,
        "template": {
         "data": {
          "bar": [
           {
            "error_x": {
             "color": "#2a3f5f"
            },
            "error_y": {
             "color": "#2a3f5f"
            },
            "marker": {
             "line": {
              "color": "#E5ECF6",
              "width": 0.5
             },
             "pattern": {
              "fillmode": "overlay",
              "size": 10,
              "solidity": 0.2
             }
            },
            "type": "bar"
           }
          ],
          "barpolar": [
           {
            "marker": {
             "line": {
              "color": "#E5ECF6",
              "width": 0.5
             },
             "pattern": {
              "fillmode": "overlay",
              "size": 10,
              "solidity": 0.2
             }
            },
            "type": "barpolar"
           }
          ],
          "carpet": [
           {
            "aaxis": {
             "endlinecolor": "#2a3f5f",
             "gridcolor": "white",
             "linecolor": "white",
             "minorgridcolor": "white",
             "startlinecolor": "#2a3f5f"
            },
            "baxis": {
             "endlinecolor": "#2a3f5f",
             "gridcolor": "white",
             "linecolor": "white",
             "minorgridcolor": "white",
             "startlinecolor": "#2a3f5f"
            },
            "type": "carpet"
           }
          ],
          "choropleth": [
           {
            "colorbar": {
             "outlinewidth": 0,
             "ticks": ""
            },
            "type": "choropleth"
           }
          ],
          "contour": [
           {
            "colorbar": {
             "outlinewidth": 0,
             "ticks": ""
            },
            "colorscale": [
             [
              0,
              "#0d0887"
             ],
             [
              0.1111111111111111,
              "#46039f"
             ],
             [
              0.2222222222222222,
              "#7201a8"
             ],
             [
              0.3333333333333333,
              "#9c179e"
             ],
             [
              0.4444444444444444,
              "#bd3786"
             ],
             [
              0.5555555555555556,
              "#d8576b"
             ],
             [
              0.6666666666666666,
              "#ed7953"
             ],
             [
              0.7777777777777778,
              "#fb9f3a"
             ],
             [
              0.8888888888888888,
              "#fdca26"
             ],
             [
              1,
              "#f0f921"
             ]
            ],
            "type": "contour"
           }
          ],
          "contourcarpet": [
           {
            "colorbar": {
             "outlinewidth": 0,
             "ticks": ""
            },
            "type": "contourcarpet"
           }
          ],
          "heatmap": [
           {
            "colorbar": {
             "outlinewidth": 0,
             "ticks": ""
            },
            "colorscale": [
             [
              0,
              "#0d0887"
             ],
             [
              0.1111111111111111,
              "#46039f"
             ],
             [
              0.2222222222222222,
              "#7201a8"
             ],
             [
              0.3333333333333333,
              "#9c179e"
             ],
             [
              0.4444444444444444,
              "#bd3786"
             ],
             [
              0.5555555555555556,
              "#d8576b"
             ],
             [
              0.6666666666666666,
              "#ed7953"
             ],
             [
              0.7777777777777778,
              "#fb9f3a"
             ],
             [
              0.8888888888888888,
              "#fdca26"
             ],
             [
              1,
              "#f0f921"
             ]
            ],
            "type": "heatmap"
           }
          ],
          "heatmapgl": [
           {
            "colorbar": {
             "outlinewidth": 0,
             "ticks": ""
            },
            "colorscale": [
             [
              0,
              "#0d0887"
             ],
             [
              0.1111111111111111,
              "#46039f"
             ],
             [
              0.2222222222222222,
              "#7201a8"
             ],
             [
              0.3333333333333333,
              "#9c179e"
             ],
             [
              0.4444444444444444,
              "#bd3786"
             ],
             [
              0.5555555555555556,
              "#d8576b"
             ],
             [
              0.6666666666666666,
              "#ed7953"
             ],
             [
              0.7777777777777778,
              "#fb9f3a"
             ],
             [
              0.8888888888888888,
              "#fdca26"
             ],
             [
              1,
              "#f0f921"
             ]
            ],
            "type": "heatmapgl"
           }
          ],
          "histogram": [
           {
            "marker": {
             "pattern": {
              "fillmode": "overlay",
              "size": 10,
              "solidity": 0.2
             }
            },
            "type": "histogram"
           }
          ],
          "histogram2d": [
           {
            "colorbar": {
             "outlinewidth": 0,
             "ticks": ""
            },
            "colorscale": [
             [
              0,
              "#0d0887"
             ],
             [
              0.1111111111111111,
              "#46039f"
             ],
             [
              0.2222222222222222,
              "#7201a8"
             ],
             [
              0.3333333333333333,
              "#9c179e"
             ],
             [
              0.4444444444444444,
              "#bd3786"
             ],
             [
              0.5555555555555556,
              "#d8576b"
             ],
             [
              0.6666666666666666,
              "#ed7953"
             ],
             [
              0.7777777777777778,
              "#fb9f3a"
             ],
             [
              0.8888888888888888,
              "#fdca26"
             ],
             [
              1,
              "#f0f921"
             ]
            ],
            "type": "histogram2d"
           }
          ],
          "histogram2dcontour": [
           {
            "colorbar": {
             "outlinewidth": 0,
             "ticks": ""
            },
            "colorscale": [
             [
              0,
              "#0d0887"
             ],
             [
              0.1111111111111111,
              "#46039f"
             ],
             [
              0.2222222222222222,
              "#7201a8"
             ],
             [
              0.3333333333333333,
              "#9c179e"
             ],
             [
              0.4444444444444444,
              "#bd3786"
             ],
             [
              0.5555555555555556,
              "#d8576b"
             ],
             [
              0.6666666666666666,
              "#ed7953"
             ],
             [
              0.7777777777777778,
              "#fb9f3a"
             ],
             [
              0.8888888888888888,
              "#fdca26"
             ],
             [
              1,
              "#f0f921"
             ]
            ],
            "type": "histogram2dcontour"
           }
          ],
          "mesh3d": [
           {
            "colorbar": {
             "outlinewidth": 0,
             "ticks": ""
            },
            "type": "mesh3d"
           }
          ],
          "parcoords": [
           {
            "line": {
             "colorbar": {
              "outlinewidth": 0,
              "ticks": ""
             }
            },
            "type": "parcoords"
           }
          ],
          "pie": [
           {
            "automargin": true,
            "type": "pie"
           }
          ],
          "scatter": [
           {
            "fillpattern": {
             "fillmode": "overlay",
             "size": 10,
             "solidity": 0.2
            },
            "type": "scatter"
           }
          ],
          "scatter3d": [
           {
            "line": {
             "colorbar": {
              "outlinewidth": 0,
              "ticks": ""
             }
            },
            "marker": {
             "colorbar": {
              "outlinewidth": 0,
              "ticks": ""
             }
            },
            "type": "scatter3d"
           }
          ],
          "scattercarpet": [
           {
            "marker": {
             "colorbar": {
              "outlinewidth": 0,
              "ticks": ""
             }
            },
            "type": "scattercarpet"
           }
          ],
          "scattergeo": [
           {
            "marker": {
             "colorbar": {
              "outlinewidth": 0,
              "ticks": ""
             }
            },
            "type": "scattergeo"
           }
          ],
          "scattergl": [
           {
            "marker": {
             "colorbar": {
              "outlinewidth": 0,
              "ticks": ""
             }
            },
            "type": "scattergl"
           }
          ],
          "scattermapbox": [
           {
            "marker": {
             "colorbar": {
              "outlinewidth": 0,
              "ticks": ""
             }
            },
            "type": "scattermapbox"
           }
          ],
          "scatterpolar": [
           {
            "marker": {
             "colorbar": {
              "outlinewidth": 0,
              "ticks": ""
             }
            },
            "type": "scatterpolar"
           }
          ],
          "scatterpolargl": [
           {
            "marker": {
             "colorbar": {
              "outlinewidth": 0,
              "ticks": ""
             }
            },
            "type": "scatterpolargl"
           }
          ],
          "scatterternary": [
           {
            "marker": {
             "colorbar": {
              "outlinewidth": 0,
              "ticks": ""
             }
            },
            "type": "scatterternary"
           }
          ],
          "surface": [
           {
            "colorbar": {
             "outlinewidth": 0,
             "ticks": ""
            },
            "colorscale": [
             [
              0,
              "#0d0887"
             ],
             [
              0.1111111111111111,
              "#46039f"
             ],
             [
              0.2222222222222222,
              "#7201a8"
             ],
             [
              0.3333333333333333,
              "#9c179e"
             ],
             [
              0.4444444444444444,
              "#bd3786"
             ],
             [
              0.5555555555555556,
              "#d8576b"
             ],
             [
              0.6666666666666666,
              "#ed7953"
             ],
             [
              0.7777777777777778,
              "#fb9f3a"
             ],
             [
              0.8888888888888888,
              "#fdca26"
             ],
             [
              1,
              "#f0f921"
             ]
            ],
            "type": "surface"
           }
          ],
          "table": [
           {
            "cells": {
             "fill": {
              "color": "#EBF0F8"
             },
             "line": {
              "color": "white"
             }
            },
            "header": {
             "fill": {
              "color": "#C8D4E3"
             },
             "line": {
              "color": "white"
             }
            },
            "type": "table"
           }
          ]
         },
         "layout": {
          "annotationdefaults": {
           "arrowcolor": "#2a3f5f",
           "arrowhead": 0,
           "arrowwidth": 1
          },
          "autotypenumbers": "strict",
          "coloraxis": {
           "colorbar": {
            "outlinewidth": 0,
            "ticks": ""
           }
          },
          "colorscale": {
           "diverging": [
            [
             0,
             "#8e0152"
            ],
            [
             0.1,
             "#c51b7d"
            ],
            [
             0.2,
             "#de77ae"
            ],
            [
             0.3,
             "#f1b6da"
            ],
            [
             0.4,
             "#fde0ef"
            ],
            [
             0.5,
             "#f7f7f7"
            ],
            [
             0.6,
             "#e6f5d0"
            ],
            [
             0.7,
             "#b8e186"
            ],
            [
             0.8,
             "#7fbc41"
            ],
            [
             0.9,
             "#4d9221"
            ],
            [
             1,
             "#276419"
            ]
           ],
           "sequential": [
            [
             0,
             "#0d0887"
            ],
            [
             0.1111111111111111,
             "#46039f"
            ],
            [
             0.2222222222222222,
             "#7201a8"
            ],
            [
             0.3333333333333333,
             "#9c179e"
            ],
            [
             0.4444444444444444,
             "#bd3786"
            ],
            [
             0.5555555555555556,
             "#d8576b"
            ],
            [
             0.6666666666666666,
             "#ed7953"
            ],
            [
             0.7777777777777778,
             "#fb9f3a"
            ],
            [
             0.8888888888888888,
             "#fdca26"
            ],
            [
             1,
             "#f0f921"
            ]
           ],
           "sequentialminus": [
            [
             0,
             "#0d0887"
            ],
            [
             0.1111111111111111,
             "#46039f"
            ],
            [
             0.2222222222222222,
             "#7201a8"
            ],
            [
             0.3333333333333333,
             "#9c179e"
            ],
            [
             0.4444444444444444,
             "#bd3786"
            ],
            [
             0.5555555555555556,
             "#d8576b"
            ],
            [
             0.6666666666666666,
             "#ed7953"
            ],
            [
             0.7777777777777778,
             "#fb9f3a"
            ],
            [
             0.8888888888888888,
             "#fdca26"
            ],
            [
             1,
             "#f0f921"
            ]
           ]
          },
          "colorway": [
           "#636efa",
           "#EF553B",
           "#00cc96",
           "#ab63fa",
           "#FFA15A",
           "#19d3f3",
           "#FF6692",
           "#B6E880",
           "#FF97FF",
           "#FECB52"
          ],
          "font": {
           "color": "#2a3f5f"
          },
          "geo": {
           "bgcolor": "white",
           "lakecolor": "white",
           "landcolor": "#E5ECF6",
           "showlakes": true,
           "showland": true,
           "subunitcolor": "white"
          },
          "hoverlabel": {
           "align": "left"
          },
          "hovermode": "closest",
          "mapbox": {
           "style": "light"
          },
          "paper_bgcolor": "white",
          "plot_bgcolor": "#E5ECF6",
          "polar": {
           "angularaxis": {
            "gridcolor": "white",
            "linecolor": "white",
            "ticks": ""
           },
           "bgcolor": "#E5ECF6",
           "radialaxis": {
            "gridcolor": "white",
            "linecolor": "white",
            "ticks": ""
           }
          },
          "scene": {
           "xaxis": {
            "backgroundcolor": "#E5ECF6",
            "gridcolor": "white",
            "gridwidth": 2,
            "linecolor": "white",
            "showbackground": true,
            "ticks": "",
            "zerolinecolor": "white"
           },
           "yaxis": {
            "backgroundcolor": "#E5ECF6",
            "gridcolor": "white",
            "gridwidth": 2,
            "linecolor": "white",
            "showbackground": true,
            "ticks": "",
            "zerolinecolor": "white"
           },
           "zaxis": {
            "backgroundcolor": "#E5ECF6",
            "gridcolor": "white",
            "gridwidth": 2,
            "linecolor": "white",
            "showbackground": true,
            "ticks": "",
            "zerolinecolor": "white"
           }
          },
          "shapedefaults": {
           "line": {
            "color": "#2a3f5f"
           }
          },
          "ternary": {
           "aaxis": {
            "gridcolor": "white",
            "linecolor": "white",
            "ticks": ""
           },
           "baxis": {
            "gridcolor": "white",
            "linecolor": "white",
            "ticks": ""
           },
           "bgcolor": "#E5ECF6",
           "caxis": {
            "gridcolor": "white",
            "linecolor": "white",
            "ticks": ""
           }
          },
          "title": {
           "x": 0.05
          },
          "xaxis": {
           "automargin": true,
           "gridcolor": "white",
           "linecolor": "white",
           "ticks": "",
           "title": {
            "standoff": 15
           },
           "zerolinecolor": "white",
           "zerolinewidth": 2
          },
          "yaxis": {
           "automargin": true,
           "gridcolor": "white",
           "linecolor": "white",
           "ticks": "",
           "title": {
            "standoff": 15
           },
           "zerolinecolor": "white",
           "zerolinewidth": 2
          }
         }
        },
        "title": {
         "text": "Topic Word Scores"
        },
        "width": 800,
        "xaxis": {
         "gridcolor": "lightgrey",
         "gridwidth": 1,
         "showgrid": true,
         "title": {
          "text": "Score"
         }
        },
        "yaxis": {
         "categoryorder": "total ascending"
        }
       }
      }
     },
     "metadata": {},
     "output_type": "display_data"
    },
    {
     "name": "stdout",
     "output_type": "stream",
     "text": [
      "\n",
      "Topic Word Probabilities:\n",
      "=======================\n",
      "\n",
      "Topic 0:\n",
      "health               0.234\n",
      "workshops            0.227\n",
      "informative          0.206\n",
      "good                 0.176\n",
      "helps                0.157\n",
      "\n",
      "Topic 1:\n",
      "team                 0.405\n",
      "activities           0.163\n",
      "fun                  0.163\n",
      "meditation           0.135\n",
      "room                 0.133\n",
      "\n",
      "Topic 2:\n",
      "helps                0.324\n",
      "mentoring            0.233\n",
      "standing             0.172\n",
      "works                0.138\n",
      "home                 0.133\n",
      "\n",
      "Topic 3:\n",
      "work                 0.390\n",
      "lots                 0.212\n",
      "generous             0.176\n",
      "shadowing            0.111\n",
      "job                  0.111\n",
      "\n",
      "Topic 4:\n",
      "really               0.230\n",
      "like                 0.230\n",
      "great                0.183\n",
      "classes              0.181\n",
      "nice                 0.175\n",
      "\n",
      "Topic Distribution:\n",
      "==================\n",
      "Topic 0: 106 documents\n",
      "Topic 1: 114 documents\n",
      "Topic 2: 110 documents\n",
      "Topic 3: 99 documents\n",
      "Topic 4: 71 documents\n"
     ]
    }
   ],
   "source": [
    "def generate_survey_responses(n_responses=500):\n",
    "    \"\"\"Generate synthetic employee survey responses.\"\"\"\n",
    "    \n",
    "    templates = {\n",
    "        'work_life_balance': [\n",
    "            \"I love having flexible work hours\",\n",
    "            \"Working from home helps with family time\",\n",
    "            \"Four-day work week is amazing\",\n",
    "            \"Can attend personal appointments easily\",\n",
    "            \"Early start times help avoid traffic\",\n",
    "            \"PTO policy is very generous\",\n",
    "            \"Mental health days are respected\",\n",
    "            \"No commute saves lots of time\",\n",
    "            \"Can have family lunch at home\",\n",
    "            \"Flexible schedule helps with classes\"\n",
    "        ],\n",
    "        'workplace_environment': [\n",
    "            \"Standing desk helps my back\",\n",
    "            \"Break room is well equipped\",\n",
    "            \"Quiet spaces for focus work\",\n",
    "            \"Natural lighting is great\",\n",
    "            \"Temperature control is perfect\",\n",
    "            \"Ergonomic chairs are comfortable\",\n",
    "            \"Outdoor meeting space is nice\",\n",
    "            \"Meditation room is peaceful\",\n",
    "            \"Dual monitors boost productivity\",\n",
    "            \"Air quality is excellent\"\n",
    "        ],\n",
    "        'health_wellbeing': [\n",
    "            \"On-site gym is convenient\",\n",
    "            \"Yoga classes reduce stress\",\n",
    "            \"Healthy food options available\",\n",
    "            \"Wellness program motivates\",\n",
    "            \"Mental health support helps\",\n",
    "            \"Meditation app is useful\",\n",
    "            \"Regular stretch breaks help\",\n",
    "            \"Standing options available\",\n",
    "            \"Team walks are energizing\",\n",
    "            \"Health workshops informative\"\n",
    "        ],\n",
    "        'team_collaboration': [\n",
    "            \"Team lunches build bonds\",\n",
    "            \"Brainstorming is productive\",\n",
    "            \"Meeting culture is positive\",\n",
    "            \"Mentoring helps growth\",\n",
    "            \"Cross-team work is engaging\",\n",
    "            \"Chat tools work well\",\n",
    "            \"Team activities are fun\",\n",
    "            \"Office layout aids collaboration\",\n",
    "            \"Feedback is constructive\",\n",
    "            \"Remote connection is strong\"\n",
    "        ],\n",
    "        'personal_growth': [\n",
    "            \"Learning budget is generous\",\n",
    "            \"Internal workshops teach skills\",\n",
    "            \"Certification support helps\",\n",
    "            \"Leadership opportunities exist\",\n",
    "            \"Peer learning is valuable\",\n",
    "            \"Book club is interesting\",\n",
    "            \"Conference access helps\",\n",
    "            \"Job shadowing teaches lots\",\n",
    "            \"Mentoring system works\",\n",
    "            \"Tech talks are informative\"\n",
    "        ]\n",
    "    }\n",
    "    \n",
    "    responses = []\n",
    "    topics = []\n",
    "    \n",
    "    responses_per_topic = n_responses // len(templates)\n",
    "    \n",
    "    for topic, template_list in templates.items():\n",
    "        for _ in range(responses_per_topic):\n",
    "            base_response = random.choice(template_list)\n",
    "            modifiers = [\"Really like that\", \"Great that\", \"Happy that\", \n",
    "                        \"Nice that\", \"Good that\"]\n",
    "            \n",
    "            if random.random() < 0.3:\n",
    "                response = f\"{random.choice(modifiers)} {base_response.lower()}\"\n",
    "            else:\n",
    "                response = base_response\n",
    "                \n",
    "            responses.append(response)\n",
    "            topics.append(topic)\n",
    "    \n",
    "    return pd.DataFrame({'response': responses, 'true_topic': topics})\n",
    "\n",
    "# Generate data\n",
    "df = generate_survey_responses(500)\n",
    "\n",
    "# Create document-term matrix\n",
    "vectorizer = CountVectorizer(\n",
    "    max_features=1000,\n",
    "    stop_words='english',\n",
    "    max_df=0.95,\n",
    "    min_df=2\n",
    ")\n",
    "doc_term_matrix = vectorizer.fit_transform(df['response'])\n",
    "\n",
    "# Create and fit LDA model\n",
    "lda_model = LatentDirichletAllocation(\n",
    "    n_components=5,\n",
    "    random_state=42,\n",
    "    max_iter=20,\n",
    "    learning_method='online'\n",
    ")\n",
    "lda_output = lda_model.fit_transform(doc_term_matrix)\n",
    "\n",
    "# Function to display top words per topic\n",
    "def print_topics(model, feature_names, n_top_words=5):\n",
    "    topics = {}\n",
    "    for topic_idx, topic in enumerate(model.components_):\n",
    "        top_indices = topic.argsort()[:-n_top_words-1:-1]\n",
    "        topic_words = [(feature_names[i], topic[i]) for i in top_indices]\n",
    "        topics[topic_idx] = topic_words\n",
    "    return topics\n",
    "\n",
    "# Get feature names\n",
    "feature_names = vectorizer.get_feature_names_out()\n",
    "\n",
    "# Get topics\n",
    "topics = print_topics(lda_model, feature_names)\n",
    "\n",
    "# Create visualization\n",
    "def plot_topics(topics, n_words=5):\n",
    "    fig = go.Figure()\n",
    "    \n",
    "    colors = ['#1f77b4', '#ff7f0e', '#2ca02c', '#d62728', '#9467bd']\n",
    "    \n",
    "    for topic_id, (color, (_, topic_words)) in enumerate(zip(colors, topics.items())):\n",
    "        words, scores = zip(*topic_words)\n",
    "        \n",
    "        # Normalize scores\n",
    "        scores = np.array(scores) / sum(scores)\n",
    "        \n",
    "        fig.add_trace(\n",
    "            go.Bar(\n",
    "                x=scores,\n",
    "                y=words,\n",
    "                orientation='h',\n",
    "                name=f'Topic {topic_id}',\n",
    "                marker_color=color,\n",
    "                text=[f\"{score:.3f}\" for score in scores],\n",
    "                textposition='auto',\n",
    "            )\n",
    "        )\n",
    "    \n",
    "    fig.update_layout(\n",
    "        title=\"Topic Word Scores\",\n",
    "        barmode='group',\n",
    "        height=400,\n",
    "        width=800,\n",
    "        showlegend=True,\n",
    "        yaxis={'categoryorder':'total ascending'},\n",
    "        plot_bgcolor='white'\n",
    "    )\n",
    "    \n",
    "    fig.update_xaxes(\n",
    "        title=\"Score\",\n",
    "        showgrid=True,\n",
    "        gridwidth=1,\n",
    "        gridcolor='lightgrey'\n",
    "    )\n",
    "    \n",
    "    return fig\n",
    "\n",
    "# Create and show visualization\n",
    "fig = plot_topics(topics)\n",
    "fig.show()\n",
    "\n",
    "# Print topic summaries\n",
    "print(\"\\nTopic Word Probabilities:\")\n",
    "print(\"=======================\")\n",
    "for topic_idx, topic_words in topics.items():\n",
    "    print(f\"\\nTopic {topic_idx}:\")\n",
    "    for word, prob in topic_words:\n",
    "        total_prob = sum(p for _, p in topic_words)\n",
    "        print(f\"{word:<20} {prob/total_prob:.3f}\")\n",
    "\n",
    "# Calculate topic distribution\n",
    "doc_topics = lda_model.transform(doc_term_matrix)\n",
    "dominant_topics = doc_topics.argmax(axis=1)\n",
    "topic_distribution = np.bincount(dominant_topics, minlength=len(topics))\n",
    "print(\"\\nTopic Distribution:\")\n",
    "print(\"==================\")\n",
    "for topic_idx, count in enumerate(topic_distribution):\n",
    "    print(f\"Topic {topic_idx}: {count} documents\")"
   ]
  }
 ],
 "metadata": {
  "kernelspec": {
   "display_name": "base",
   "language": "python",
   "name": "python3"
  },
  "language_info": {
   "codemirror_mode": {
    "name": "ipython",
    "version": 3
   },
   "file_extension": ".py",
   "mimetype": "text/x-python",
   "name": "python",
   "nbconvert_exporter": "python",
   "pygments_lexer": "ipython3",
   "version": "3.12.4"
  }
 },
 "nbformat": 4,
 "nbformat_minor": 2
}
